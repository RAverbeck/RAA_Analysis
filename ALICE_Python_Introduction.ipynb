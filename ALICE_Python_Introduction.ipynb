{
 "cells": [
  {
   "cell_type": "markdown",
   "source": [
    "A Jupyter notebook consists of any number cells, which can be executed individually. \n",
    "\n",
    "Each cell can be executed by pressing Strg (Shift) + Enter or via the menu item \"Cell->Run Cell\" if the cell has benn highlighted with the mouse\n",
    "\n",
    "Also the complete notebook can be executed via the menu item \"Cell->Run All\"."
   ],
   "metadata": {}
  },
  {
   "cell_type": "code",
   "execution_count": null,
   "source": [
    "print(\"Hello World!\")"
   ],
   "outputs": [],
   "metadata": {}
  },
  {
   "cell_type": "markdown",
   "source": [
    "## Exercise:\n",
    "\n",
    "In this cell a variable 'b' has been defined and the value '5' has been assigned to 'b'. The output via print() displays the content of variable 'b'. Via print(type(b)) one can check which data type Python has assigned to the variable.\n",
    "\n",
    "After executing the code, work on the following tasks and add corresponding code to this cell:\n",
    "\n",
    "- define a variable 'a' and assign a numerical velue\n",
    "\n",
    "- define a variable 'text' and assign a strong\n",
    "\n",
    "- define 'c' as product of 'a' uand 'b' und display the result via print(c).\n",
    "\n",
    "- What happens for?\n",
    "    - print(2 * a)\n",
    "    - print(2 * text)\n",
    "\n",
    "- What happens for these commands? (use copy & paste)\n",
    "    - print(a + b)\n",
    "    - print('a+b')\n",
    "    - print(str(a) + '+' + str(b))\n",
    "    \n"
   ],
   "metadata": {}
  },
  {
   "cell_type": "code",
   "execution_count": null,
   "source": [
    "b = 5\n",
    "print(b)"
   ],
   "outputs": [],
   "metadata": {
    "solution2": "hidden",
    "solution2_first": true
   }
  },
  {
   "cell_type": "code",
   "execution_count": null,
   "source": [
    "b = 5\n",
    "print(b)\n",
    "\n",
    "a = 3.2\n",
    "\n",
    "text = \"Hello world!\"\n",
    "\n",
    "c = a * b\n",
    "\n",
    "print(c)\n",
    "\n",
    "print(2 * a)\n",
    "print(2 * text)\n",
    "\n",
    "print(a+b)\n",
    "print('a+b')\n",
    "print(str(a)+'+'+str(b))"
   ],
   "outputs": [],
   "metadata": {
    "solution2": "hidden"
   }
  },
  {
   "cell_type": "markdown",
   "source": [
    "# if else\n",
    "\n",
    "Via an if statement one or more conditions can be checked and, dependent on the outcome, code can be executed. \n",
    "\n",
    "If the conditions is fulfilled (-> condition is TRUE), the code directly following the 'if' will be executed.\n",
    "\n",
    "If the conditions is not fulfilled (-> first condition is FALSE), one can check further conditions via the 'elif' command.\n",
    "\n",
    "If no further explicit conditions should be checked (-> condition/s is/are FALSE), alternative code can be executed via the command 'else' (if and only if, the checked condition is FALSE).\n",
    "\n",
    "## Exercise:\n",
    "Execute the code in the following cell and subsequently modify the Variables a and b to test all logical combinations of the checked condition:"
   ],
   "metadata": {}
  },
  {
   "cell_type": "code",
   "execution_count": null,
   "source": [
    "\n",
    "if a>b:\n",
    "    print('a is larger than b')\n",
    "elif a==b:\n",
    "    print('a and b are equal')\n",
    "else:\n",
    "    print('b is larger than a')"
   ],
   "outputs": [],
   "metadata": {}
  },
  {
   "cell_type": "markdown",
   "source": [
    " "
   ],
   "metadata": {
    "solution2": "hidden",
    "solution2_first": true
   }
  },
  {
   "cell_type": "code",
   "execution_count": null,
   "source": [
    "# redefine a and b:\n",
    "\n",
    "a = 4\n",
    "b = 4\n",
    "\n",
    "if a>b:\n",
    "    print('a is larger than b')\n",
    "elif a==b:\n",
    "    print('a and b are equal')\n",
    "else:\n",
    "    print('b is larger than a')"
   ],
   "outputs": [],
   "metadata": {
    "scrolled": true,
    "solution2": "hidden"
   }
  },
  {
   "cell_type": "markdown",
   "source": [
    "## Exercise:\n",
    "\n",
    "Using \n",
    "\n",
    "text = input(\"Please enter some text and confirm with pressing Enter: \")\n",
    "\n",
    "ask for two inputs of text and check with an if/else condition whether the two inputs are the same.\n",
    "\n",
    "If yes, print \"Same inputs\" on the screen, otherwise print \"Different inputs\""
   ],
   "metadata": {}
  },
  {
   "cell_type": "code",
   "execution_count": null,
   "source": [
    "text1 = input(\"Please enter some text and confirm with pressing Enter: \")\n",
    "text2 = input(\"Please enter some text and confirm with pressing Enter: \")\n",
    "\n",
    "print(text1, text2)"
   ],
   "outputs": [],
   "metadata": {
    "solution2": "hidden",
    "solution2_first": true
   }
  },
  {
   "cell_type": "code",
   "execution_count": null,
   "source": [
    "text1 = input(\"Please enter some text and confirm with pressing Enter: \")\n",
    "text2 = input(\"Please enter some text and confirm with pressing Enter: \")\n",
    "\n",
    "print(text1, text2)\n",
    "\n",
    "if( text1 == text2):\n",
    "    print(\"Same inputs\")\n",
    "else:\n",
    "    print(\"Different inputs\")"
   ],
   "outputs": [],
   "metadata": {
    "solution2": "hidden"
   }
  },
  {
   "cell_type": "markdown",
   "source": [
    "# for loop\n",
    "\n",
    "In a for-loop commands can be executed repeatedly.\n",
    "\n",
    "## Exercise:\n",
    "\n",
    "Try this code\n",
    "\n",
    "    for i in range (0,15):\n",
    "        print(i**2)\n",
    "\n",
    "What happens? What does 'range(0,15)' do?"
   ],
   "metadata": {}
  },
  {
   "cell_type": "code",
   "execution_count": null,
   "source": [],
   "outputs": [],
   "metadata": {
    "solution2": "hidden",
    "solution2_first": true
   }
  },
  {
   "cell_type": "code",
   "execution_count": null,
   "source": [
    "for i in range (0,15):\n",
    "       print(i**2)\n",
    "\n",
    "print('range:')\n",
    "x = range(0,15)\n",
    "print(len(x))\n",
    "print(x[0])\n",
    "print(x[1])\n",
    "print(x[14])"
   ],
   "outputs": [],
   "metadata": {
    "solution2": "hidden"
   }
  },
  {
   "cell_type": "markdown",
   "source": [
    "## Exercise:\n",
    "\n",
    "Combine a for loop with an if else command to print the square values of the numbers 0 to 14 and, in addition, print on the screen whether the individual values are larger or smaller than 100. Consider proper indentation when writing your code."
   ],
   "metadata": {}
  },
  {
   "cell_type": "code",
   "execution_count": null,
   "source": [],
   "outputs": [],
   "metadata": {
    "solution2": "hidden",
    "solution2_first": true
   }
  },
  {
   "cell_type": "code",
   "execution_count": null,
   "source": [
    "for i in range(0,15):\n",
    "    square = i**2\n",
    "    if( square > 100 ):\n",
    "        print(str(square) + \" is larger than 100!\")\n",
    "    elif ( square < 100):\n",
    "        print(str(square) + \" is smaller than 100!\")\n",
    "    else:\n",
    "        print(str(square) + \" is equal to 100!\")"
   ],
   "outputs": [],
   "metadata": {
    "solution2": "hidden"
   }
  },
  {
   "cell_type": "markdown",
   "source": [
    "# Lists:\n",
    "\n",
    "A list is a sequence of the same data types which can be addressed all together or also individually. \n",
    "For specifying the position of an element in the list/array counting always starts with zero. \n",
    "\n",
    "The position is given in square brackets as shown in the example below."
   ],
   "metadata": {}
  },
  {
   "cell_type": "code",
   "execution_count": null,
   "source": [
    "list = [1, 1, 2, 3, 5, 8, 13, 21]\n",
    "\n",
    "print(list)\n",
    "\n",
    "print(list[6])\n",
    "\n",
    "list[5] = 432\n",
    "\n",
    "print(list)"
   ],
   "outputs": [],
   "metadata": {}
  },
  {
   "cell_type": "markdown",
   "source": [
    "Lists can also be nested:"
   ],
   "metadata": {}
  },
  {
   "cell_type": "code",
   "execution_count": null,
   "source": [
    "list2 = [ [1, 24, 5, 873, 37, 2] , [23, 6, 77, 84, 100, 22] ]\n",
    "\n",
    "print(list2)\n",
    "\n",
    "print(list2[0][2])\n",
    "\n",
    "list2[0][3]=10\n",
    "\n",
    "print(list2)"
   ],
   "outputs": [],
   "metadata": {}
  },
  {
   "cell_type": "markdown",
   "source": [
    "## Exercise:\n",
    "\n",
    "- Define a list 'days' and include all days of the week\n",
    "- What happens for the following commands:\n",
    "    - print(days[0:3])\n",
    "    - print(days[-3:])\n",
    "    \n",
    "- Write a for-loop and print all days of the week\n",
    "    - if a day ends with 'tag' print to the screen \"...ends with tag!\""
   ],
   "metadata": {}
  },
  {
   "cell_type": "code",
   "execution_count": null,
   "source": [],
   "outputs": [],
   "metadata": {
    "solution2": "hidden",
    "solution2_first": true
   }
  },
  {
   "cell_type": "code",
   "execution_count": null,
   "source": [
    "days = [\"Monday\", \"Tuesday\", \"Wednesday\", \"Thursday\", \"Friday\", \"Saturday\", \"Sunday\"]\n",
    "\n",
    "print(days[0:3])\n",
    "print(days[-3:])\n",
    "\n",
    "for z in days:\n",
    "    print(z)\n",
    "    if( z[-3:] == \"tag\"):\n",
    "        print(\"...ends with tag!\")"
   ],
   "outputs": [],
   "metadata": {
    "solution2": "hidden"
   }
  },
  {
   "cell_type": "markdown",
   "source": [
    "# Plotting auf Graphs, Histograms & Co:\n",
    "\n",
    "The following packages are often used and can be loaded in the next cell:"
   ],
   "metadata": {}
  },
  {
   "cell_type": "code",
   "execution_count": null,
   "source": [
    "import numpy as np\n",
    "from matplotlib import pyplot as plt"
   ],
   "outputs": [],
   "metadata": {}
  },
  {
   "cell_type": "markdown",
   "source": [
    "With these packages various graphical objects can be created and displayed. \n",
    "\n",
    "In this example 6 values will be displayed on the vertical versus the horizontal axis. \n",
    "\n",
    "The color and symbol of the data point can be modified with the command fmt.<br>\n",
    "r=red<br>\n",
    "g=green<br>\n",
    "y=yellow<br>\n",
    "m=magenta<br>\n",
    "k=black<br>\n",
    "c=cyan<br>\n",
    "w=white<br>\n",
    "b=blue<br>\n",
    "'.' \tpoint marker<br>\n",
    "',' \tpixel marker<br>\n",
    "'o' \tcircle marker<br>\n",
    "'v' \ttriangle_down marker<br>\n",
    "'^' \ttriangle_up marker<br>\n",
    "'<' \ttriangle_left marker<br>\n",
    "'>' \ttriangle_right marker<br>\n",
    "'1' \ttri_down marker<br>\n",
    "'2' \ttri_up marker<br>\n",
    "'3' \ttri_left marker<br>\n",
    "'4' \ttri_right marker<br>\n",
    "'s' \tsquare marker<br>\n",
    "'p' \tpentagon marker<br>\n",
    "'*' \tstar marker<br>\n",
    "'h' \thexagon1 marker<br>\n",
    "'H' \thexagon2 marker<br>\n",
    "'+' \tplus marker<br>\n",
    "'x' \tx marker<br>\n",
    "'D' \tdiamond marker<br>\n",
    "'d' \tthin_diamond marker<br>\n",
    "'|' \tvline marker<br>\n",
    "'_' \thline marker<br>\n",
    "\n",
    "[Here](https://matplotlib.org/stable/api/markers_api.html) is an overview with examples"
   ],
   "metadata": {}
  },
  {
   "cell_type": "code",
   "execution_count": null,
   "source": [
    "x = [1, 2, 3, 4, 5, 6]\n",
    "y = [1, 4, 9, 16, 25, 36]\n",
    "\n",
    "plt.errorbar(x, y, xerr=0.5, yerr=2, fmt='ro')\n",
    "plt.show()"
   ],
   "outputs": [],
   "metadata": {}
  },
  {
   "cell_type": "markdown",
   "source": [
    "With Numpy it is also possible to pliot functions. In the next example 50 values will be plotted in the range between 0 and 2*pi and the function sin(x) will be overlayed."
   ],
   "metadata": {}
  },
  {
   "cell_type": "code",
   "execution_count": null,
   "source": [
    "X = np.linspace(0, 2 * np.pi, 50, endpoint=True) # Plot from 0 to 2*pi\n",
    "F = np.sin(X)\n",
    "\n",
    "plt.plot(X,F, label='sin')\n",
    "plt.legend(loc='upper right')\n",
    "plt.show()"
   ],
   "outputs": [],
   "metadata": {}
  },
  {
   "cell_type": "markdown",
   "source": [
    "Also the plotting of histograms is easy. \n",
    "\n",
    "In this example 100000 random values will be sampled from a normal distribution and incremented in a binned histogram. \n",
    "The number of the bins can be adjusted, and the width of the bins automatically becomes (Maxvalue-Minvalue)/Binnumber ergibt.\n",
    "\n",
    "- Execute the program\n",
    "    - Increase 'size' repeatedly by a factor of 10 - what happens? When do you recognize the typical bell shape?"
   ],
   "metadata": {}
  },
  {
   "cell_type": "code",
   "execution_count": null,
   "source": [
    "gaussian_numbers = np.random.normal(size=10)\n",
    "bins = 100\n",
    "\n",
    "plt.hist(gaussian_numbers, bins)\n",
    "\n",
    "plt.title(\"Gauss - histogram\")\n",
    "plt.xlabel(\"Value\")\n",
    "plt.ylabel(\"Frequency\")\n",
    "plt.show()"
   ],
   "outputs": [],
   "metadata": {}
  },
  {
   "cell_type": "code",
   "execution_count": null,
   "source": [],
   "outputs": [],
   "metadata": {}
  }
 ],
 "metadata": {
  "kernelspec": {
   "display_name": "Python 3",
   "language": "python",
   "name": "python3"
  },
  "language_info": {
   "codemirror_mode": {
    "name": "ipython",
    "version": 3
   },
   "file_extension": ".py",
   "mimetype": "text/x-python",
   "name": "python",
   "nbconvert_exporter": "python",
   "pygments_lexer": "ipython3",
   "version": "3.6.9"
  }
 },
 "nbformat": 4,
 "nbformat_minor": 4
}
